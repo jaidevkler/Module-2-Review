{
 "cells": [
  {
   "cell_type": "code",
   "execution_count": 1,
   "id": "c683f8ea",
   "metadata": {},
   "outputs": [],
   "source": [
    "# Data types"
   ]
  },
  {
   "cell_type": "code",
   "execution_count": 2,
   "id": "ca0623a2",
   "metadata": {},
   "outputs": [],
   "source": [
    "# Strings"
   ]
  },
  {
   "cell_type": "code",
   "execution_count": 3,
   "id": "47d9170e",
   "metadata": {},
   "outputs": [],
   "source": [
    "name = \"Jaidev Kler\""
   ]
  },
  {
   "cell_type": "code",
   "execution_count": 4,
   "id": "563ff063",
   "metadata": {},
   "outputs": [
    {
     "data": {
      "text/plain": [
       "str"
      ]
     },
     "execution_count": 4,
     "metadata": {},
     "output_type": "execute_result"
    }
   ],
   "source": [
    "type(name)"
   ]
  },
  {
   "cell_type": "code",
   "execution_count": 5,
   "id": "22a7e446",
   "metadata": {},
   "outputs": [],
   "source": [
    "# Float"
   ]
  },
  {
   "cell_type": "code",
   "execution_count": 6,
   "id": "78a8425a",
   "metadata": {},
   "outputs": [],
   "source": [
    "wage = 32.5"
   ]
  },
  {
   "cell_type": "code",
   "execution_count": 7,
   "id": "65740eb1",
   "metadata": {},
   "outputs": [
    {
     "data": {
      "text/plain": [
       "float"
      ]
     },
     "execution_count": 7,
     "metadata": {},
     "output_type": "execute_result"
    }
   ],
   "source": [
    "type(wage)"
   ]
  },
  {
   "cell_type": "code",
   "execution_count": 8,
   "id": "5cdcad78",
   "metadata": {},
   "outputs": [],
   "source": [
    "# Integer"
   ]
  },
  {
   "cell_type": "code",
   "execution_count": 9,
   "id": "c2f09834",
   "metadata": {},
   "outputs": [],
   "source": [
    "year = 2024"
   ]
  },
  {
   "cell_type": "code",
   "execution_count": 10,
   "id": "c58096d9",
   "metadata": {},
   "outputs": [
    {
     "data": {
      "text/plain": [
       "int"
      ]
     },
     "execution_count": 10,
     "metadata": {},
     "output_type": "execute_result"
    }
   ],
   "source": [
    "type(year)"
   ]
  },
  {
   "cell_type": "code",
   "execution_count": 11,
   "id": "8b24b87d",
   "metadata": {},
   "outputs": [],
   "source": [
    "# Boolean"
   ]
  },
  {
   "cell_type": "code",
   "execution_count": 12,
   "id": "9c310978",
   "metadata": {},
   "outputs": [],
   "source": [
    "class_today = True"
   ]
  },
  {
   "cell_type": "code",
   "execution_count": 13,
   "id": "7f2bf94d",
   "metadata": {},
   "outputs": [
    {
     "data": {
      "text/plain": [
       "bool"
      ]
     },
     "execution_count": 13,
     "metadata": {},
     "output_type": "execute_result"
    }
   ],
   "source": [
    "type(class_today)"
   ]
  },
  {
   "cell_type": "code",
   "execution_count": 14,
   "id": "131f6fff",
   "metadata": {},
   "outputs": [],
   "source": [
    "# Print statements"
   ]
  },
  {
   "cell_type": "code",
   "execution_count": 15,
   "id": "23f44b66",
   "metadata": {},
   "outputs": [
    {
     "name": "stdout",
     "output_type": "stream",
     "text": [
      "My name is Jaidev Kler\n"
     ]
    }
   ],
   "source": [
    "print(\"My name is\", name)"
   ]
  },
  {
   "cell_type": "code",
   "execution_count": 16,
   "id": "040cd0ca",
   "metadata": {},
   "outputs": [
    {
     "name": "stdout",
     "output_type": "stream",
     "text": [
      "My hourly wage is 32.5\n"
     ]
    }
   ],
   "source": [
    "print(\"My hourly wage is\", wage)"
   ]
  },
  {
   "cell_type": "code",
   "execution_count": 17,
   "id": "a9f96bb0",
   "metadata": {},
   "outputs": [],
   "source": [
    "# Input function"
   ]
  },
  {
   "cell_type": "code",
   "execution_count": 18,
   "id": "4bec3b8c",
   "metadata": {},
   "outputs": [
    {
     "name": "stdout",
     "output_type": "stream",
     "text": [
      "Name a basketball player: \n"
     ]
    }
   ],
   "source": [
    "new_name = input(\"Name a basketball player: \")"
   ]
  },
  {
   "cell_type": "code",
   "execution_count": 19,
   "id": "a03ec9ee",
   "metadata": {},
   "outputs": [
    {
     "data": {
      "text/plain": [
       "''"
      ]
     },
     "execution_count": 19,
     "metadata": {},
     "output_type": "execute_result"
    }
   ],
   "source": [
    "new_name"
   ]
  },
  {
   "cell_type": "code",
   "execution_count": 20,
   "id": "1579d51e",
   "metadata": {},
   "outputs": [
    {
     "data": {
      "text/plain": [
       "str"
      ]
     },
     "execution_count": 20,
     "metadata": {},
     "output_type": "execute_result"
    }
   ],
   "source": [
    "type(new_name)"
   ]
  },
  {
   "cell_type": "code",
   "execution_count": 21,
   "id": "f1db4cbd",
   "metadata": {},
   "outputs": [
    {
     "name": "stdout",
     "output_type": "stream",
     "text": [
      "What is your age? \n"
     ]
    }
   ],
   "source": [
    "age = input(\"What is your age? \")"
   ]
  },
  {
   "cell_type": "code",
   "execution_count": 22,
   "id": "266085a7",
   "metadata": {},
   "outputs": [
    {
     "data": {
      "text/plain": [
       "str"
      ]
     },
     "execution_count": 22,
     "metadata": {},
     "output_type": "execute_result"
    }
   ],
   "source": [
    "type(age)"
   ]
  },
  {
   "cell_type": "code",
   "execution_count": 23,
   "id": "cf9b7b7e",
   "metadata": {},
   "outputs": [],
   "source": [
    "# Type casting "
   ]
  },
  {
   "cell_type": "code",
   "execution_count": 24,
   "id": "e8fd6ad9",
   "metadata": {},
   "outputs": [
    {
     "name": "stdout",
     "output_type": "stream",
     "text": [
      "What is your age? \n"
     ]
    },
    {
     "ename": "ValueError",
     "evalue": "could not convert string to float: ''",
     "output_type": "error",
     "traceback": [
      "\u001b[0;31m---------------------------------------------------------------------------\u001b[0m",
      "\u001b[0;31mValueError\u001b[0m                                Traceback (most recent call last)",
      "Cell \u001b[0;32mIn[24], line 1\u001b[0m\n\u001b[0;32m----> 1\u001b[0m age \u001b[38;5;241m=\u001b[39m \u001b[38;5;28mfloat\u001b[39m(\u001b[38;5;28minput\u001b[39m(\u001b[38;5;124m\"\u001b[39m\u001b[38;5;124mWhat is your age? \u001b[39m\u001b[38;5;124m\"\u001b[39m))\n",
      "\u001b[0;31mValueError\u001b[0m: could not convert string to float: ''"
     ]
    }
   ],
   "source": [
    "age = float(input(\"What is your age? \"))"
   ]
  },
  {
   "cell_type": "code",
   "execution_count": null,
   "id": "1ea7719d",
   "metadata": {},
   "outputs": [],
   "source": [
    "type(age)"
   ]
  },
  {
   "cell_type": "code",
   "execution_count": 25,
   "id": "6403001e",
   "metadata": {},
   "outputs": [],
   "source": [
    "# Operators"
   ]
  },
  {
   "cell_type": "code",
   "execution_count": 26,
   "id": "1337d2ca",
   "metadata": {},
   "outputs": [],
   "source": [
    "# Addition"
   ]
  },
  {
   "cell_type": "code",
   "execution_count": 27,
   "id": "91fd4da9",
   "metadata": {},
   "outputs": [
    {
     "data": {
      "text/plain": [
       "5"
      ]
     },
     "execution_count": 27,
     "metadata": {},
     "output_type": "execute_result"
    }
   ],
   "source": [
    "2 + 3"
   ]
  },
  {
   "cell_type": "code",
   "execution_count": 28,
   "id": "626b80b7",
   "metadata": {},
   "outputs": [],
   "source": [
    "# Subtraction"
   ]
  },
  {
   "cell_type": "code",
   "execution_count": 29,
   "id": "30a0f55a",
   "metadata": {},
   "outputs": [
    {
     "data": {
      "text/plain": [
       "3"
      ]
     },
     "execution_count": 29,
     "metadata": {},
     "output_type": "execute_result"
    }
   ],
   "source": [
    "5 - 2"
   ]
  },
  {
   "cell_type": "code",
   "execution_count": 30,
   "id": "2d65bf45",
   "metadata": {},
   "outputs": [],
   "source": [
    "# Multiplication"
   ]
  },
  {
   "cell_type": "code",
   "execution_count": 31,
   "id": "978bb2ef",
   "metadata": {},
   "outputs": [
    {
     "data": {
      "text/plain": [
       "10"
      ]
     },
     "execution_count": 31,
     "metadata": {},
     "output_type": "execute_result"
    }
   ],
   "source": [
    "5 * 2"
   ]
  },
  {
   "cell_type": "code",
   "execution_count": 32,
   "id": "b67469a4",
   "metadata": {},
   "outputs": [],
   "source": [
    "# Division"
   ]
  },
  {
   "cell_type": "code",
   "execution_count": 33,
   "id": "4d41fc75",
   "metadata": {},
   "outputs": [
    {
     "data": {
      "text/plain": [
       "5.0"
      ]
     },
     "execution_count": 33,
     "metadata": {},
     "output_type": "execute_result"
    }
   ],
   "source": [
    "10 / 2"
   ]
  },
  {
   "cell_type": "code",
   "execution_count": 34,
   "id": "c033e53e",
   "metadata": {},
   "outputs": [],
   "source": [
    "# Modulus"
   ]
  },
  {
   "cell_type": "code",
   "execution_count": 35,
   "id": "708e27f4",
   "metadata": {},
   "outputs": [
    {
     "data": {
      "text/plain": [
       "1"
      ]
     },
     "execution_count": 35,
     "metadata": {},
     "output_type": "execute_result"
    }
   ],
   "source": [
    "9 % 2"
   ]
  },
  {
   "cell_type": "code",
   "execution_count": 36,
   "id": "05dc4459",
   "metadata": {},
   "outputs": [],
   "source": [
    "# Floor Division"
   ]
  },
  {
   "cell_type": "code",
   "execution_count": 37,
   "id": "c19e0e34",
   "metadata": {
    "scrolled": true
   },
   "outputs": [
    {
     "data": {
      "text/plain": [
       "4"
      ]
     },
     "execution_count": 37,
     "metadata": {},
     "output_type": "execute_result"
    }
   ],
   "source": [
    "9 // 2"
   ]
  },
  {
   "cell_type": "code",
   "execution_count": 38,
   "id": "91fbe649",
   "metadata": {},
   "outputs": [],
   "source": [
    "# Power"
   ]
  },
  {
   "cell_type": "code",
   "execution_count": 39,
   "id": "8766acdd",
   "metadata": {},
   "outputs": [
    {
     "data": {
      "text/plain": [
       "8"
      ]
     },
     "execution_count": 39,
     "metadata": {},
     "output_type": "execute_result"
    }
   ],
   "source": [
    "2 ** 3"
   ]
  },
  {
   "cell_type": "code",
   "execution_count": 40,
   "id": "fceb12eb",
   "metadata": {},
   "outputs": [],
   "source": [
    "# Order of precedence - PEMDAS"
   ]
  },
  {
   "cell_type": "code",
   "execution_count": 41,
   "id": "244e77b9",
   "metadata": {},
   "outputs": [
    {
     "data": {
      "text/plain": [
       "-1"
      ]
     },
     "execution_count": 41,
     "metadata": {},
     "output_type": "execute_result"
    }
   ],
   "source": [
    "5 - 3 * 2"
   ]
  },
  {
   "cell_type": "code",
   "execution_count": 42,
   "id": "88a3035e",
   "metadata": {},
   "outputs": [],
   "source": [
    "# Strings can be wrapped in either single or double quotes"
   ]
  },
  {
   "cell_type": "code",
   "execution_count": 43,
   "id": "9dabbacd",
   "metadata": {},
   "outputs": [
    {
     "data": {
      "text/plain": [
       "'My name is Jaidev Kler'"
      ]
     },
     "execution_count": 43,
     "metadata": {},
     "output_type": "execute_result"
    }
   ],
   "source": [
    "\"My name is Jaidev Kler\""
   ]
  },
  {
   "cell_type": "code",
   "execution_count": 44,
   "id": "5593f053",
   "metadata": {},
   "outputs": [
    {
     "data": {
      "text/plain": [
       "'My name is Jaidev Kler'"
      ]
     },
     "execution_count": 44,
     "metadata": {},
     "output_type": "execute_result"
    }
   ],
   "source": [
    "'My name is Jaidev Kler'"
   ]
  },
  {
   "cell_type": "code",
   "execution_count": 45,
   "id": "a6c09be5",
   "metadata": {},
   "outputs": [],
   "source": [
    "# Escape character"
   ]
  },
  {
   "cell_type": "code",
   "execution_count": 46,
   "id": "dd45f441",
   "metadata": {},
   "outputs": [],
   "source": [
    "new_string = 'My name is Jaidev Kler \\nI am enrolled in the AI Bootcamp \\nClasses are on MWF'"
   ]
  },
  {
   "cell_type": "code",
   "execution_count": 47,
   "id": "ab496e8f",
   "metadata": {},
   "outputs": [
    {
     "name": "stdout",
     "output_type": "stream",
     "text": [
      "My name is Jaidev Kler \n",
      "I am enrolled in the AI Bootcamp \n",
      "Classes are on MWF\n"
     ]
    }
   ],
   "source": [
    "print(new_string)"
   ]
  },
  {
   "cell_type": "code",
   "execution_count": 48,
   "id": "4e221c2b",
   "metadata": {},
   "outputs": [
    {
     "data": {
      "text/plain": [
       "'Multiple Line Comments\\n\\nThe aim of this function to...\\n\\nArguments\\n\\nOutput\\n\\n'"
      ]
     },
     "execution_count": 48,
     "metadata": {},
     "output_type": "execute_result"
    }
   ],
   "source": [
    "\"\"\"Multiple Line Comments\n",
    "\n",
    "The aim of this function to...\n",
    "\n",
    "Arguments\n",
    "\n",
    "Output\n",
    "\n",
    "\"\"\""
   ]
  },
  {
   "cell_type": "code",
   "execution_count": 49,
   "id": "a29c7d8c",
   "metadata": {},
   "outputs": [],
   "source": [
    "# F-strings"
   ]
  },
  {
   "cell_type": "code",
   "execution_count": 50,
   "id": "d3663432",
   "metadata": {},
   "outputs": [
    {
     "name": "stdout",
     "output_type": "stream",
     "text": [
      "My name is Jaidev Kler\n"
     ]
    }
   ],
   "source": [
    "print(f\"My name is {name}\")"
   ]
  },
  {
   "cell_type": "code",
   "execution_count": 51,
   "id": "8f5914c9",
   "metadata": {},
   "outputs": [
    {
     "name": "stdout",
     "output_type": "stream",
     "text": [
      "My hourly wage is $32.5 and \n",
      "My name is Jaidev Kler\n"
     ]
    }
   ],
   "source": [
    "print(f'My hourly wage is ${wage} and \\nMy name is {name}')"
   ]
  },
  {
   "cell_type": "code",
   "execution_count": 52,
   "id": "df63cd65",
   "metadata": {},
   "outputs": [],
   "source": [
    "# String manipulation"
   ]
  },
  {
   "cell_type": "code",
   "execution_count": 53,
   "id": "e6da1a6b",
   "metadata": {},
   "outputs": [],
   "source": [
    "new_name = 'kobe bryant'"
   ]
  },
  {
   "cell_type": "code",
   "execution_count": 54,
   "id": "6f253b0a",
   "metadata": {},
   "outputs": [
    {
     "data": {
      "text/plain": [
       "'KOBE BRYANT'"
      ]
     },
     "execution_count": 54,
     "metadata": {},
     "output_type": "execute_result"
    }
   ],
   "source": [
    "new_name.upper()"
   ]
  },
  {
   "cell_type": "code",
   "execution_count": 55,
   "id": "4d1745c6",
   "metadata": {},
   "outputs": [
    {
     "data": {
      "text/plain": [
       "'kobe bryant'"
      ]
     },
     "execution_count": 55,
     "metadata": {},
     "output_type": "execute_result"
    }
   ],
   "source": [
    "new_name.lower()"
   ]
  },
  {
   "cell_type": "code",
   "execution_count": 56,
   "id": "bcddac49",
   "metadata": {},
   "outputs": [
    {
     "data": {
      "text/plain": [
       "'Kobe Bryant'"
      ]
     },
     "execution_count": 56,
     "metadata": {},
     "output_type": "execute_result"
    }
   ],
   "source": [
    "new_name.title()"
   ]
  },
  {
   "cell_type": "code",
   "execution_count": 57,
   "id": "f3679e17",
   "metadata": {},
   "outputs": [],
   "source": [
    "new_line = '-'"
   ]
  },
  {
   "cell_type": "code",
   "execution_count": 58,
   "id": "6f66e249",
   "metadata": {},
   "outputs": [
    {
     "data": {
      "text/plain": [
       "'--------------------------------------------------'"
      ]
     },
     "execution_count": 58,
     "metadata": {},
     "output_type": "execute_result"
    }
   ],
   "source": [
    "new_line * 50"
   ]
  },
  {
   "cell_type": "code",
   "execution_count": 59,
   "id": "bc6bed13",
   "metadata": {},
   "outputs": [],
   "source": [
    "# Lists"
   ]
  },
  {
   "cell_type": "code",
   "execution_count": 60,
   "id": "faf418db",
   "metadata": {},
   "outputs": [],
   "source": [
    "list_one = [1,2,3,4,5]"
   ]
  },
  {
   "cell_type": "code",
   "execution_count": 61,
   "id": "039d1b39",
   "metadata": {},
   "outputs": [],
   "source": [
    "list_two = [\"Toyota\", 2024, 4.0, True]"
   ]
  },
  {
   "cell_type": "code",
   "execution_count": 62,
   "id": "e85dd590",
   "metadata": {},
   "outputs": [],
   "source": [
    "# Indexing"
   ]
  },
  {
   "cell_type": "code",
   "execution_count": 63,
   "id": "5f5a8b66",
   "metadata": {},
   "outputs": [
    {
     "data": {
      "text/plain": [
       "'Toyota'"
      ]
     },
     "execution_count": 63,
     "metadata": {},
     "output_type": "execute_result"
    }
   ],
   "source": [
    "list_two[0]"
   ]
  },
  {
   "cell_type": "code",
   "execution_count": 64,
   "id": "dd5c3598",
   "metadata": {},
   "outputs": [
    {
     "data": {
      "text/plain": [
       "True"
      ]
     },
     "execution_count": 64,
     "metadata": {},
     "output_type": "execute_result"
    }
   ],
   "source": [
    "list_two[-1]"
   ]
  },
  {
   "cell_type": "code",
   "execution_count": 65,
   "id": "0a6b9d34",
   "metadata": {},
   "outputs": [],
   "source": [
    "# Slicing"
   ]
  },
  {
   "cell_type": "code",
   "execution_count": 66,
   "id": "d7d17325",
   "metadata": {},
   "outputs": [
    {
     "data": {
      "text/plain": [
       "[2, 3, 4]"
      ]
     },
     "execution_count": 66,
     "metadata": {},
     "output_type": "execute_result"
    }
   ],
   "source": [
    "list_one[1:4]"
   ]
  },
  {
   "cell_type": "code",
   "execution_count": 67,
   "id": "bb21cfee",
   "metadata": {},
   "outputs": [
    {
     "data": {
      "text/plain": [
       "[1, 2, 3, 4]"
      ]
     },
     "execution_count": 67,
     "metadata": {},
     "output_type": "execute_result"
    }
   ],
   "source": [
    "list_one[0:4]"
   ]
  },
  {
   "cell_type": "code",
   "execution_count": 68,
   "id": "ccdda598",
   "metadata": {},
   "outputs": [
    {
     "data": {
      "text/plain": [
       "[3, 4, 5]"
      ]
     },
     "execution_count": 68,
     "metadata": {},
     "output_type": "execute_result"
    }
   ],
   "source": [
    "list_one[2:]"
   ]
  },
  {
   "cell_type": "code",
   "execution_count": 69,
   "id": "39181c20",
   "metadata": {},
   "outputs": [
    {
     "data": {
      "text/plain": [
       "[1, 2, 3]"
      ]
     },
     "execution_count": 69,
     "metadata": {},
     "output_type": "execute_result"
    }
   ],
   "source": [
    "list_one[:3]"
   ]
  },
  {
   "cell_type": "code",
   "execution_count": 70,
   "id": "4a3317dc",
   "metadata": {},
   "outputs": [
    {
     "data": {
      "text/plain": [
       "[1, 2, 3, 4, 5]"
      ]
     },
     "execution_count": 70,
     "metadata": {},
     "output_type": "execute_result"
    }
   ],
   "source": [
    "list_one[:]"
   ]
  },
  {
   "cell_type": "code",
   "execution_count": 71,
   "id": "31cc3343",
   "metadata": {},
   "outputs": [
    {
     "data": {
      "text/plain": [
       "[1, 2, 3, 4]"
      ]
     },
     "execution_count": 71,
     "metadata": {},
     "output_type": "execute_result"
    }
   ],
   "source": [
    "list_one[:-1]"
   ]
  },
  {
   "cell_type": "code",
   "execution_count": 72,
   "id": "5be650e3",
   "metadata": {},
   "outputs": [],
   "source": [
    "# List functions in python - index, append, pop, remove, len, max, min, sum"
   ]
  },
  {
   "cell_type": "code",
   "execution_count": 73,
   "id": "4a4292f0",
   "metadata": {},
   "outputs": [
    {
     "data": {
      "text/plain": [
       "0"
      ]
     },
     "execution_count": 73,
     "metadata": {},
     "output_type": "execute_result"
    }
   ],
   "source": [
    "list_two.index(\"Toyota\") # returns the index of a list item"
   ]
  },
  {
   "cell_type": "code",
   "execution_count": 74,
   "id": "1e8a5978",
   "metadata": {},
   "outputs": [],
   "source": [
    "list_one.append(6) # method adds elements to the end of the list"
   ]
  },
  {
   "cell_type": "code",
   "execution_count": 75,
   "id": "bd3cb442",
   "metadata": {},
   "outputs": [
    {
     "data": {
      "text/plain": [
       "[1, 2, 3, 4, 5, 6]"
      ]
     },
     "execution_count": 75,
     "metadata": {},
     "output_type": "execute_result"
    }
   ],
   "source": [
    "list_one"
   ]
  },
  {
   "cell_type": "code",
   "execution_count": 76,
   "id": "8e53b52f",
   "metadata": {},
   "outputs": [
    {
     "data": {
      "text/plain": [
       "3"
      ]
     },
     "execution_count": 76,
     "metadata": {},
     "output_type": "execute_result"
    }
   ],
   "source": [
    "list_one.pop(2) # method removes value by index"
   ]
  },
  {
   "cell_type": "code",
   "execution_count": 77,
   "id": "5c1750ea",
   "metadata": {},
   "outputs": [
    {
     "data": {
      "text/plain": [
       "[1, 2, 4, 5, 6]"
      ]
     },
     "execution_count": 77,
     "metadata": {},
     "output_type": "execute_result"
    }
   ],
   "source": [
    "list_one"
   ]
  },
  {
   "cell_type": "code",
   "execution_count": 78,
   "id": "1f3dc0fa",
   "metadata": {},
   "outputs": [],
   "source": [
    "list_one.remove(6) # removes given value"
   ]
  },
  {
   "cell_type": "code",
   "execution_count": 79,
   "id": "457af6e4",
   "metadata": {},
   "outputs": [
    {
     "data": {
      "text/plain": [
       "[1, 2, 4, 5]"
      ]
     },
     "execution_count": 79,
     "metadata": {},
     "output_type": "execute_result"
    }
   ],
   "source": [
    "list_one"
   ]
  },
  {
   "cell_type": "code",
   "execution_count": 80,
   "id": "9420126e",
   "metadata": {},
   "outputs": [
    {
     "data": {
      "text/plain": [
       "4"
      ]
     },
     "execution_count": 80,
     "metadata": {},
     "output_type": "execute_result"
    }
   ],
   "source": [
    "len(list_one) # returns length of list"
   ]
  },
  {
   "cell_type": "code",
   "execution_count": 81,
   "id": "22f90aa2",
   "metadata": {},
   "outputs": [
    {
     "data": {
      "text/plain": [
       "5"
      ]
     },
     "execution_count": 81,
     "metadata": {},
     "output_type": "execute_result"
    }
   ],
   "source": [
    "max(list_one) # returns maximum value in a list"
   ]
  },
  {
   "cell_type": "code",
   "execution_count": 82,
   "id": "8fc220e2",
   "metadata": {},
   "outputs": [
    {
     "data": {
      "text/plain": [
       "1"
      ]
     },
     "execution_count": 82,
     "metadata": {},
     "output_type": "execute_result"
    }
   ],
   "source": [
    "min(list_one) # returns minimum value in a list"
   ]
  },
  {
   "cell_type": "code",
   "execution_count": 83,
   "id": "141440d1",
   "metadata": {},
   "outputs": [
    {
     "data": {
      "text/plain": [
       "12"
      ]
     },
     "execution_count": 83,
     "metadata": {},
     "output_type": "execute_result"
    }
   ],
   "source": [
    "sum(list_one) # returns sum of the list"
   ]
  },
  {
   "cell_type": "code",
   "execution_count": 84,
   "id": "1ba646de",
   "metadata": {},
   "outputs": [],
   "source": [
    "# Tuples - similar to lists but are immutable"
   ]
  },
  {
   "cell_type": "code",
   "execution_count": 85,
   "id": "cfeba0bf",
   "metadata": {},
   "outputs": [],
   "source": [
    "new_tuple = (1,2,3,4,5)"
   ]
  },
  {
   "cell_type": "code",
   "execution_count": 86,
   "id": "4570880a",
   "metadata": {},
   "outputs": [],
   "source": [
    "new_list = [1,2,3, (\"Toyota\",1,2)]"
   ]
  },
  {
   "cell_type": "code",
   "execution_count": 87,
   "id": "db751c65",
   "metadata": {},
   "outputs": [],
   "source": [
    "new_list[0] = 20"
   ]
  },
  {
   "cell_type": "code",
   "execution_count": 88,
   "id": "ad1d219d",
   "metadata": {},
   "outputs": [
    {
     "data": {
      "text/plain": [
       "[20, 2, 3, ('Toyota', 1, 2)]"
      ]
     },
     "execution_count": 88,
     "metadata": {},
     "output_type": "execute_result"
    }
   ],
   "source": [
    "new_list"
   ]
  },
  {
   "cell_type": "code",
   "execution_count": 89,
   "id": "15c443ce",
   "metadata": {},
   "outputs": [
    {
     "ename": "TypeError",
     "evalue": "'tuple' object does not support item assignment",
     "output_type": "error",
     "traceback": [
      "\u001b[0;31m---------------------------------------------------------------------------\u001b[0m",
      "\u001b[0;31mTypeError\u001b[0m                                 Traceback (most recent call last)",
      "Cell \u001b[0;32mIn[89], line 1\u001b[0m\n\u001b[0;32m----> 1\u001b[0m new_tuple[\u001b[38;5;241m1\u001b[39m] \u001b[38;5;241m=\u001b[39m \u001b[38;5;241m3\u001b[39m\n",
      "\u001b[0;31mTypeError\u001b[0m: 'tuple' object does not support item assignment"
     ]
    }
   ],
   "source": [
    "new_tuple[1] = 3 # They are immutabe so an error will be displayed with this cell is run"
   ]
  },
  {
   "cell_type": "code",
   "execution_count": 90,
   "id": "4e6110d7",
   "metadata": {},
   "outputs": [
    {
     "name": "stdout",
     "output_type": "stream",
     "text": [
      "(1, 2, 3, 4, 5)\n"
     ]
    }
   ],
   "source": [
    "print(new_tuple)"
   ]
  },
  {
   "cell_type": "code",
   "execution_count": 91,
   "id": "1949c359",
   "metadata": {},
   "outputs": [
    {
     "data": {
      "text/plain": [
       "tuple"
      ]
     },
     "execution_count": 91,
     "metadata": {},
     "output_type": "execute_result"
    }
   ],
   "source": [
    "type(new_tuple)"
   ]
  },
  {
   "cell_type": "code",
   "execution_count": 92,
   "id": "4cdfb85c",
   "metadata": {},
   "outputs": [],
   "source": [
    "# Conditionals - if, if else, elif"
   ]
  },
  {
   "cell_type": "code",
   "execution_count": 93,
   "id": "a2eb66e6",
   "metadata": {},
   "outputs": [],
   "source": [
    "temp = 70"
   ]
  },
  {
   "cell_type": "code",
   "execution_count": 94,
   "id": "6f41c447",
   "metadata": {},
   "outputs": [
    {
     "name": "stdout",
     "output_type": "stream",
     "text": [
      "Good\n"
     ]
    }
   ],
   "source": [
    "if temp > 80:\n",
    "    print(\"Hot\")\n",
    "elif temp >= 60:\n",
    "    print(\"Good\")\n",
    "elif temp >= 40:\n",
    "    print(\"Cold\")\n",
    "elif temp < 40:\n",
    "    print(\"Too cold\")\n",
    "        "
   ]
  },
  {
   "cell_type": "code",
   "execution_count": 95,
   "id": "45fa1098",
   "metadata": {},
   "outputs": [],
   "source": [
    "# Comparison operators >, >=, <, <=, ==, !="
   ]
  },
  {
   "cell_type": "code",
   "execution_count": 96,
   "id": "2f0767a6",
   "metadata": {},
   "outputs": [
    {
     "data": {
      "text/plain": [
       "False"
      ]
     },
     "execution_count": 96,
     "metadata": {},
     "output_type": "execute_result"
    }
   ],
   "source": [
    "5 == 3"
   ]
  },
  {
   "cell_type": "code",
   "execution_count": 97,
   "id": "315eaa05",
   "metadata": {},
   "outputs": [
    {
     "data": {
      "text/plain": [
       "True"
      ]
     },
     "execution_count": 97,
     "metadata": {},
     "output_type": "execute_result"
    }
   ],
   "source": [
    "5 >= 3"
   ]
  },
  {
   "cell_type": "code",
   "execution_count": 98,
   "id": "9851df2e",
   "metadata": {},
   "outputs": [
    {
     "data": {
      "text/plain": [
       "True"
      ]
     },
     "execution_count": 98,
     "metadata": {},
     "output_type": "execute_result"
    }
   ],
   "source": [
    "5 != 3"
   ]
  },
  {
   "cell_type": "code",
   "execution_count": 99,
   "id": "8e53dde7",
   "metadata": {},
   "outputs": [
    {
     "data": {
      "text/plain": [
       "False"
      ]
     },
     "execution_count": 99,
     "metadata": {},
     "output_type": "execute_result"
    }
   ],
   "source": [
    "5 <= 3"
   ]
  },
  {
   "cell_type": "code",
   "execution_count": 100,
   "id": "c912b037",
   "metadata": {},
   "outputs": [],
   "source": [
    "# Input validation"
   ]
  },
  {
   "cell_type": "code",
   "execution_count": 101,
   "id": "31df2dd2",
   "metadata": {},
   "outputs": [
    {
     "name": "stdout",
     "output_type": "stream",
     "text": [
      "How old are you? \n"
     ]
    }
   ],
   "source": [
    "string = input(\"How old are you? \")"
   ]
  },
  {
   "cell_type": "code",
   "execution_count": 102,
   "id": "e2d21435",
   "metadata": {},
   "outputs": [
    {
     "name": "stdout",
     "output_type": "stream",
     "text": [
      "Input not a number\n"
     ]
    }
   ],
   "source": [
    "if string.isdigit():\n",
    "    print(\"Input is a number\")\n",
    "else:\n",
    "    print(\"Input not a number\")"
   ]
  },
  {
   "cell_type": "code",
   "execution_count": 103,
   "id": "1d421bbf",
   "metadata": {},
   "outputs": [],
   "source": [
    "# Logical operators - and, or, not"
   ]
  },
  {
   "cell_type": "code",
   "execution_count": 104,
   "id": "44bd3d98",
   "metadata": {},
   "outputs": [],
   "source": [
    "x = 5\n",
    "y = 5"
   ]
  },
  {
   "cell_type": "code",
   "execution_count": 105,
   "id": "b6755ab1",
   "metadata": {},
   "outputs": [
    {
     "name": "stdout",
     "output_type": "stream",
     "text": [
      "True\n"
     ]
    }
   ],
   "source": [
    "if x == 5 or y == 5:\n",
    "    print(\"True\")\n",
    "else:\n",
    "    print(\"False\")"
   ]
  },
  {
   "cell_type": "code",
   "execution_count": 106,
   "id": "a3585f64",
   "metadata": {},
   "outputs": [
    {
     "name": "stdout",
     "output_type": "stream",
     "text": [
      "True\n"
     ]
    }
   ],
   "source": [
    "if x == 3 or y == 5:\n",
    "    print(\"True\")\n",
    "else:\n",
    "    print(\"False\")"
   ]
  },
  {
   "cell_type": "code",
   "execution_count": 107,
   "id": "eb9e13fa",
   "metadata": {},
   "outputs": [
    {
     "name": "stdout",
     "output_type": "stream",
     "text": [
      "False\n"
     ]
    }
   ],
   "source": [
    "if not True :\n",
    "    print(\"True\")\n",
    "else:\n",
    "    print(\"False\")"
   ]
  },
  {
   "cell_type": "code",
   "execution_count": 108,
   "id": "7aa7837a",
   "metadata": {},
   "outputs": [],
   "source": [
    "# Membership operators - in or not in"
   ]
  },
  {
   "cell_type": "code",
   "execution_count": 109,
   "id": "bf3935fc",
   "metadata": {},
   "outputs": [],
   "source": [
    "asian_countries = ['India', 'China', 'Japan', 'Korea']"
   ]
  },
  {
   "cell_type": "code",
   "execution_count": 110,
   "id": "7788e184",
   "metadata": {},
   "outputs": [
    {
     "name": "stdout",
     "output_type": "stream",
     "text": [
      "India\n",
      "China\n",
      "Japan\n",
      "Korea\n"
     ]
    }
   ],
   "source": [
    "for country in asian_countries:\n",
    "    print(country)"
   ]
  },
  {
   "cell_type": "code",
   "execution_count": 111,
   "id": "fa57c049",
   "metadata": {},
   "outputs": [
    {
     "name": "stdout",
     "output_type": "stream",
     "text": [
      "True\n"
     ]
    }
   ],
   "source": [
    "if 'India' in asian_countries:\n",
    "    print('True')"
   ]
  },
  {
   "cell_type": "code",
   "execution_count": 112,
   "id": "c4dea8b9",
   "metadata": {},
   "outputs": [
    {
     "name": "stdout",
     "output_type": "stream",
     "text": [
      "True\n"
     ]
    }
   ],
   "source": [
    "if 'USA' not in asian_countries:\n",
    "    print('True')"
   ]
  },
  {
   "cell_type": "code",
   "execution_count": 113,
   "id": "bb4f0eb5",
   "metadata": {},
   "outputs": [],
   "source": [
    "# Identity operators - is, is not"
   ]
  },
  {
   "cell_type": "code",
   "execution_count": 114,
   "id": "bb8407b1",
   "metadata": {},
   "outputs": [
    {
     "name": "stdout",
     "output_type": "stream",
     "text": [
      "It is a string\n"
     ]
    }
   ],
   "source": [
    "if type(\"Juan\") is str:\n",
    "    print(\"It is a string\")"
   ]
  },
  {
   "cell_type": "code",
   "execution_count": 115,
   "id": "cbee417e",
   "metadata": {},
   "outputs": [
    {
     "name": "stdout",
     "output_type": "stream",
     "text": [
      "Not a float\n"
     ]
    }
   ],
   "source": [
    "if type(\"Juan\") is not float:\n",
    "    print(\"Not a float\")\n",
    "else:\n",
    "    print('This is a float')"
   ]
  },
  {
   "cell_type": "code",
   "execution_count": 116,
   "id": "8e56bf34",
   "metadata": {},
   "outputs": [],
   "source": [
    "# Loops"
   ]
  },
  {
   "cell_type": "code",
   "execution_count": 117,
   "id": "0300248a",
   "metadata": {},
   "outputs": [],
   "source": [
    "# For loops"
   ]
  },
  {
   "cell_type": "code",
   "execution_count": 118,
   "id": "03f10b53",
   "metadata": {},
   "outputs": [
    {
     "data": {
      "text/plain": [
       "range(0, 5)"
      ]
     },
     "execution_count": 118,
     "metadata": {},
     "output_type": "execute_result"
    }
   ],
   "source": [
    "range(5) # Creates a datatype of type range"
   ]
  },
  {
   "cell_type": "code",
   "execution_count": 119,
   "id": "32bd814a",
   "metadata": {},
   "outputs": [
    {
     "name": "stdout",
     "output_type": "stream",
     "text": [
      "0\n",
      "1\n",
      "2\n"
     ]
    }
   ],
   "source": [
    "for x in range(3): # range 3 will give values 0 to 2 (3 will be excluded)\n",
    "    print(x)"
   ]
  },
  {
   "cell_type": "code",
   "execution_count": 120,
   "id": "46ab3e8a",
   "metadata": {},
   "outputs": [
    {
     "name": "stdout",
     "output_type": "stream",
     "text": [
      "3\n",
      "4\n",
      "5\n",
      "6\n",
      "7\n",
      "8\n",
      "9\n"
     ]
    }
   ],
   "source": [
    "for x in range(3,10): # range will give values 3 to 9 (10 will be excluded)\n",
    "    print(x)"
   ]
  },
  {
   "cell_type": "code",
   "execution_count": 121,
   "id": "5619cffc",
   "metadata": {},
   "outputs": [
    {
     "name": "stdout",
     "output_type": "stream",
     "text": [
      "0\n",
      "1\n",
      "4\n",
      "9\n",
      "16\n"
     ]
    }
   ],
   "source": [
    "for x in range(5):\n",
    "    print(x*x)"
   ]
  },
  {
   "cell_type": "code",
   "execution_count": 122,
   "id": "77602e7a",
   "metadata": {},
   "outputs": [],
   "source": [
    "# Looping through strings"
   ]
  },
  {
   "cell_type": "code",
   "execution_count": 123,
   "id": "6a3cfca1",
   "metadata": {},
   "outputs": [],
   "source": [
    "word = 'Artificial Intelligence'"
   ]
  },
  {
   "cell_type": "code",
   "execution_count": 124,
   "id": "29fef4cc",
   "metadata": {},
   "outputs": [
    {
     "name": "stdout",
     "output_type": "stream",
     "text": [
      "A\n",
      "r\n",
      "t\n",
      "i\n",
      "f\n",
      "i\n",
      "c\n",
      "i\n",
      "a\n",
      "l\n",
      " \n",
      "I\n",
      "n\n",
      "t\n",
      "e\n",
      "l\n",
      "l\n",
      "i\n",
      "g\n",
      "e\n",
      "n\n",
      "c\n",
      "e\n"
     ]
    }
   ],
   "source": [
    "for letters in word: # Iterate through letters in a string\n",
    "    print(letters)"
   ]
  },
  {
   "cell_type": "code",
   "execution_count": 125,
   "id": "9c8bd269",
   "metadata": {},
   "outputs": [],
   "source": [
    "# Looping through lists"
   ]
  },
  {
   "cell_type": "code",
   "execution_count": 126,
   "id": "1bc7c0f4",
   "metadata": {},
   "outputs": [],
   "source": [
    "cars = ['Toyota','Mercedes','BMW','Tesla']"
   ]
  },
  {
   "cell_type": "code",
   "execution_count": 127,
   "id": "ab0bcdf2",
   "metadata": {},
   "outputs": [
    {
     "name": "stdout",
     "output_type": "stream",
     "text": [
      "['Toyota', 'Mercedes', 'BMW', 'Tesla']\n"
     ]
    }
   ],
   "source": [
    "print(cars)"
   ]
  },
  {
   "cell_type": "code",
   "execution_count": 128,
   "id": "de601c3c",
   "metadata": {},
   "outputs": [
    {
     "name": "stdout",
     "output_type": "stream",
     "text": [
      "Toyota\n",
      "Mercedes\n",
      "BMW\n",
      "Tesla\n"
     ]
    }
   ],
   "source": [
    "for car in cars:\n",
    "    print(car)"
   ]
  },
  {
   "cell_type": "code",
   "execution_count": 129,
   "id": "f304729d",
   "metadata": {},
   "outputs": [],
   "source": [
    "# while loops"
   ]
  },
  {
   "cell_type": "code",
   "execution_count": 130,
   "id": "8cd9248e",
   "metadata": {},
   "outputs": [],
   "source": [
    "condition = 'y'"
   ]
  },
  {
   "cell_type": "code",
   "execution_count": 131,
   "id": "765f9c05",
   "metadata": {},
   "outputs": [
    {
     "name": "stdout",
     "output_type": "stream",
     "text": [
      "Condition is true\n",
      "Enter \"y\" or \"n\"? \n"
     ]
    }
   ],
   "source": [
    "while condition == 'y':\n",
    "    print('Condition is true')\n",
    "    condition = input('Enter \"y\" or \"n\"? ')"
   ]
  },
  {
   "cell_type": "code",
   "execution_count": 132,
   "id": "8c09a9df",
   "metadata": {},
   "outputs": [],
   "source": [
    "number = 1"
   ]
  },
  {
   "cell_type": "code",
   "execution_count": 133,
   "id": "be5a38b3",
   "metadata": {},
   "outputs": [
    {
     "name": "stdout",
     "output_type": "stream",
     "text": [
      "1\n",
      "2\n",
      "3\n",
      "4\n",
      "5\n",
      "6\n",
      "7\n",
      "8\n",
      "9\n",
      "10\n"
     ]
    }
   ],
   "source": [
    "while number <= 10:\n",
    "    print(number)\n",
    "    number += 1"
   ]
  },
  {
   "cell_type": "code",
   "execution_count": 134,
   "id": "c4d48f93",
   "metadata": {},
   "outputs": [],
   "source": [
    "# Special operators for use in loops: +=, _"
   ]
  },
  {
   "cell_type": "code",
   "execution_count": 135,
   "id": "bbd51419",
   "metadata": {},
   "outputs": [],
   "source": [
    "x = 10"
   ]
  },
  {
   "cell_type": "code",
   "execution_count": 136,
   "id": "3708cf05",
   "metadata": {},
   "outputs": [],
   "source": [
    "x += 5 # x = x + 5"
   ]
  },
  {
   "cell_type": "code",
   "execution_count": 137,
   "id": "c79c7eb5",
   "metadata": {},
   "outputs": [
    {
     "name": "stdout",
     "output_type": "stream",
     "text": [
      "15\n"
     ]
    }
   ],
   "source": [
    "print(x)"
   ]
  },
  {
   "cell_type": "code",
   "execution_count": 138,
   "id": "ff791765",
   "metadata": {},
   "outputs": [
    {
     "name": "stdout",
     "output_type": "stream",
     "text": [
      "My name is Jaidev\n",
      "My name is Jaidev\n",
      "My name is Jaidev\n",
      "My name is Jaidev\n",
      "My name is Jaidev\n"
     ]
    }
   ],
   "source": [
    "for _ in range(5): # Dummy varible\n",
    "    print(\"My name is Jaidev\")"
   ]
  },
  {
   "cell_type": "code",
   "execution_count": 139,
   "id": "d2122958",
   "metadata": {},
   "outputs": [],
   "source": [
    "# break keyword"
   ]
  },
  {
   "cell_type": "code",
   "execution_count": 140,
   "id": "16e943cf",
   "metadata": {},
   "outputs": [
    {
     "name": "stdout",
     "output_type": "stream",
     "text": [
      "Hi\n"
     ]
    }
   ],
   "source": [
    "while True:\n",
    "    print(\"Hi\")\n",
    "    break"
   ]
  },
  {
   "cell_type": "code",
   "execution_count": 141,
   "id": "252f1fec",
   "metadata": {},
   "outputs": [],
   "source": [
    "# Match case"
   ]
  },
  {
   "cell_type": "code",
   "execution_count": 142,
   "id": "49ebfe49",
   "metadata": {},
   "outputs": [],
   "source": [
    "grade = 'B'"
   ]
  },
  {
   "cell_type": "code",
   "execution_count": 143,
   "id": "c2dd647b",
   "metadata": {},
   "outputs": [
    {
     "name": "stdout",
     "output_type": "stream",
     "text": [
      "80-90\n"
     ]
    }
   ],
   "source": [
    "if grade == 'A':\n",
    "    print('90-100')\n",
    "elif grade == 'B':\n",
    "    print('80-90')\n",
    "elif grade == 'C':\n",
    "    print('70-80')\n",
    "elif grade == 'D':\n",
    "    print('60-70')\n",
    "elif grade == 'F':\n",
    "    print('Less than 60')"
   ]
  },
  {
   "cell_type": "code",
   "execution_count": 144,
   "id": "357a313c",
   "metadata": {},
   "outputs": [
    {
     "name": "stdout",
     "output_type": "stream",
     "text": [
      "80-90\n"
     ]
    }
   ],
   "source": [
    "match grade:\n",
    "    case 'A':\n",
    "        print('90-100')\n",
    "    case 'B':\n",
    "        print('80-90')\n",
    "    case 'C':\n",
    "        print('70-80')\n",
    "    case 'D':\n",
    "        print('60-70')\n",
    "    case 'F':\n",
    "        print('Grade is less than 60')"
   ]
  },
  {
   "cell_type": "code",
   "execution_count": 145,
   "id": "928bc1ca",
   "metadata": {},
   "outputs": [],
   "source": [
    "# Dictionaries - multiple vales and multiple data types. Dicts store data in key-value pairs"
   ]
  },
  {
   "cell_type": "code",
   "execution_count": 146,
   "id": "7ca1e3d1",
   "metadata": {},
   "outputs": [],
   "source": [
    "car = dict()"
   ]
  },
  {
   "cell_type": "code",
   "execution_count": 147,
   "id": "d906785c",
   "metadata": {},
   "outputs": [],
   "source": [
    "car = {}"
   ]
  },
  {
   "cell_type": "code",
   "execution_count": 148,
   "id": "6bdfde53",
   "metadata": {},
   "outputs": [
    {
     "data": {
      "text/plain": [
       "dict"
      ]
     },
     "execution_count": 148,
     "metadata": {},
     "output_type": "execute_result"
    }
   ],
   "source": [
    "type(car)"
   ]
  },
  {
   "cell_type": "code",
   "execution_count": 149,
   "id": "a3f8e6a4",
   "metadata": {},
   "outputs": [],
   "source": [
    "car[\"make\"] = \"Toyota\""
   ]
  },
  {
   "cell_type": "code",
   "execution_count": 150,
   "id": "d9ff74b5",
   "metadata": {},
   "outputs": [
    {
     "name": "stdout",
     "output_type": "stream",
     "text": [
      "{'make': 'Toyota'}\n"
     ]
    }
   ],
   "source": [
    "print(car)"
   ]
  },
  {
   "cell_type": "code",
   "execution_count": 151,
   "id": "fe777d50",
   "metadata": {},
   "outputs": [
    {
     "data": {
      "text/plain": [
       "'Toyota'"
      ]
     },
     "execution_count": 151,
     "metadata": {},
     "output_type": "execute_result"
    }
   ],
   "source": [
    "car['make']"
   ]
  },
  {
   "cell_type": "code",
   "execution_count": 152,
   "id": "e90e33bc",
   "metadata": {},
   "outputs": [],
   "source": [
    "car = {\n",
    "    'make': 'Toyota',\n",
    "    'model': 'Camry',\n",
    "    'engine': 4.0,\n",
    "    'year': 2024,\n",
    "    'warranty': True\n",
    "       }"
   ]
  },
  {
   "cell_type": "code",
   "execution_count": 153,
   "id": "f4f5d22c",
   "metadata": {},
   "outputs": [
    {
     "data": {
      "text/plain": [
       "True"
      ]
     },
     "execution_count": 153,
     "metadata": {},
     "output_type": "execute_result"
    }
   ],
   "source": [
    "car['warranty']"
   ]
  },
  {
   "cell_type": "code",
   "execution_count": 154,
   "id": "71aa976e",
   "metadata": {},
   "outputs": [
    {
     "data": {
      "text/plain": [
       "2024"
      ]
     },
     "execution_count": 154,
     "metadata": {},
     "output_type": "execute_result"
    }
   ],
   "source": [
    "car['year']"
   ]
  },
  {
   "cell_type": "code",
   "execution_count": 155,
   "id": "844c9dba",
   "metadata": {},
   "outputs": [],
   "source": [
    "actors = {}"
   ]
  },
  {
   "cell_type": "code",
   "execution_count": 156,
   "id": "5d615f2c",
   "metadata": {},
   "outputs": [],
   "source": [
    "actors_list = [\n",
    "    \"Tom Cruise\",\n",
    "    \"Angelina Jolie\",\n",
    "    \"Kristen Stewart\",\n",
    "    \"Denzel Washington\"]"
   ]
  },
  {
   "cell_type": "code",
   "execution_count": 157,
   "id": "d32299bc",
   "metadata": {},
   "outputs": [],
   "source": [
    "actors[\"name\"] = actors_list"
   ]
  },
  {
   "cell_type": "code",
   "execution_count": 158,
   "id": "56ae4bad",
   "metadata": {},
   "outputs": [
    {
     "name": "stdout",
     "output_type": "stream",
     "text": [
      "{'name': ['Tom Cruise', 'Angelina Jolie', 'Kristen Stewart', 'Denzel Washington']}\n"
     ]
    }
   ],
   "source": [
    "print(actors)"
   ]
  },
  {
   "cell_type": "code",
   "execution_count": 159,
   "id": "07da38ab",
   "metadata": {},
   "outputs": [
    {
     "data": {
      "text/plain": [
       "['Tom Cruise', 'Angelina Jolie', 'Kristen Stewart', 'Denzel Washington']"
      ]
     },
     "execution_count": 159,
     "metadata": {},
     "output_type": "execute_result"
    }
   ],
   "source": [
    "actors['name']"
   ]
  },
  {
   "cell_type": "code",
   "execution_count": 160,
   "id": "1f7534fc",
   "metadata": {},
   "outputs": [
    {
     "data": {
      "text/plain": [
       "'Denzel Washington'"
      ]
     },
     "execution_count": 160,
     "metadata": {},
     "output_type": "execute_result"
    }
   ],
   "source": [
    "actors['name'][-1]"
   ]
  },
  {
   "cell_type": "code",
   "execution_count": 161,
   "id": "ebd9ec6f",
   "metadata": {},
   "outputs": [],
   "source": [
    "# Nested data structures"
   ]
  },
  {
   "cell_type": "code",
   "execution_count": 162,
   "id": "38e08cf7",
   "metadata": {},
   "outputs": [],
   "source": [
    "# List of lists"
   ]
  },
  {
   "cell_type": "code",
   "execution_count": 163,
   "id": "82667674",
   "metadata": {},
   "outputs": [],
   "source": [
    "new_list = [\n",
    "      [\"James\", \"Noor\", \"Ayoka\"],\n",
    "      [65, 72, 80],\n",
    "      [\"Washington\", \"Kuala Lumpur\", \"Abuja\"]\n",
    "]"
   ]
  },
  {
   "cell_type": "code",
   "execution_count": 164,
   "id": "24af4a92",
   "metadata": {},
   "outputs": [
    {
     "name": "stdout",
     "output_type": "stream",
     "text": [
      "[['James', 'Noor', 'Ayoka'], [65, 72, 80], ['Washington', 'Kuala Lumpur', 'Abuja']]\n"
     ]
    }
   ],
   "source": [
    "print(new_list)"
   ]
  },
  {
   "cell_type": "code",
   "execution_count": 165,
   "id": "00919ce0",
   "metadata": {},
   "outputs": [],
   "source": [
    "new_list = [\n",
    "    {\n",
    "        \"name\": \"James\",\n",
    "        \"score\": 50,\n",
    "        \"city\": \"Washington\"\n",
    "    },\n",
    "    {\n",
    "        \"name\": \"Noor\",\n",
    "        \"score\": 72,\n",
    "        \"city\": \"Kuala Lumpur\"\n",
    "    }\n",
    "]"
   ]
  },
  {
   "cell_type": "code",
   "execution_count": 166,
   "id": "2bfe8cac",
   "metadata": {},
   "outputs": [
    {
     "name": "stdout",
     "output_type": "stream",
     "text": [
      "[{'name': 'James', 'score': 50, 'city': 'Washington'}, {'name': 'Noor', 'score': 72, 'city': 'Kuala Lumpur'}]\n"
     ]
    }
   ],
   "source": [
    "print(new_list)"
   ]
  },
  {
   "cell_type": "code",
   "execution_count": 167,
   "id": "0b0fd651",
   "metadata": {},
   "outputs": [
    {
     "data": {
      "text/plain": [
       "{'name': 'James', 'score': 50, 'city': 'Washington'}"
      ]
     },
     "execution_count": 167,
     "metadata": {},
     "output_type": "execute_result"
    }
   ],
   "source": [
    "new_list[0]"
   ]
  },
  {
   "cell_type": "code",
   "execution_count": 168,
   "id": "bffcd25d",
   "metadata": {},
   "outputs": [
    {
     "data": {
      "text/plain": [
       "'Kuala Lumpur'"
      ]
     },
     "execution_count": 168,
     "metadata": {},
     "output_type": "execute_result"
    }
   ],
   "source": [
    "new_list[-1]['city']"
   ]
  },
  {
   "cell_type": "code",
   "execution_count": 169,
   "id": "67e2abcb",
   "metadata": {},
   "outputs": [],
   "source": [
    "# List comprehensions"
   ]
  },
  {
   "cell_type": "code",
   "execution_count": 170,
   "id": "0a53fb18",
   "metadata": {},
   "outputs": [],
   "source": [
    "numbers = [1, 2, 3, 4, 5, 6]"
   ]
  },
  {
   "cell_type": "code",
   "execution_count": 176,
   "id": "3b8f1878",
   "metadata": {},
   "outputs": [
    {
     "name": "stdout",
     "output_type": "stream",
     "text": [
      "[1, 4, 9, 16, 25, 36]\n"
     ]
    }
   ],
   "source": [
    "# Standard for loop\n",
    "squares = []\n",
    "\n",
    "for number in numbers:\n",
    "    squares.append(number ** 2)\n",
    "\n",
    "print(squares)"
   ]
  },
  {
   "cell_type": "code",
   "execution_count": 177,
   "id": "50fdb2c1",
   "metadata": {},
   "outputs": [
    {
     "name": "stdout",
     "output_type": "stream",
     "text": [
      "[1, 4, 9, 16, 25, 36]\n"
     ]
    }
   ],
   "source": [
    "# List comprehension\n",
    "squares = [number**2 for number in numbers] \n",
    "\n",
    "print(squares)"
   ]
  },
  {
   "cell_type": "code",
   "execution_count": 178,
   "id": "ec154ac5",
   "metadata": {},
   "outputs": [
    {
     "name": "stdout",
     "output_type": "stream",
     "text": [
      "[16, 25, 36]\n"
     ]
    }
   ],
   "source": [
    "# List comprehension with a condition\n",
    "squares = [number ** 2 for number in numbers if number > 3]\n",
    "\n",
    "print(squares)"
   ]
  }
 ],
 "metadata": {
  "kernelspec": {
   "display_name": "Python 3 (ipykernel)",
   "language": "python",
   "name": "python3"
  },
  "language_info": {
   "codemirror_mode": {
    "name": "ipython",
    "version": 3
   },
   "file_extension": ".py",
   "mimetype": "text/x-python",
   "name": "python",
   "nbconvert_exporter": "python",
   "pygments_lexer": "ipython3",
   "version": "3.11.5"
  }
 },
 "nbformat": 4,
 "nbformat_minor": 5
}
